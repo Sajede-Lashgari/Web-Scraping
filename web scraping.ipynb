{
 "cells": [
  {
   "cell_type": "code",
   "execution_count": 2,
   "metadata": {},
   "outputs": [
    {
     "name": "stdout",
     "output_type": "stream",
     "text": [
      "Collecting selenium\n",
      "  Downloading selenium-3.141.0-py2.py3-none-any.whl (904 kB)\n",
      "Requirement already satisfied: urllib3 in c:\\users\\asus\\anaconda3\\lib\\site-packages (from selenium) (1.25.8)\n",
      "Installing collected packages: selenium\n",
      "Successfully installed selenium-3.141.0\n",
      "Collecting unidecode\n",
      "  Downloading Unidecode-1.1.1-py2.py3-none-any.whl (238 kB)\n",
      "Installing collected packages: unidecode\n",
      "Successfully installed unidecode-1.1.1\n"
     ]
    }
   ],
   "source": [
    "!pip install selenium\n",
    "!pip install unidecode"
   ]
  },
  {
   "cell_type": "code",
   "execution_count": 9,
   "metadata": {},
   "outputs": [],
   "source": [
    "from bs4 import BeautifulSoup\n",
    "from selenium import webdriver\n",
    "from unidecode import unidecode\n",
    "import pandas"
   ]
  },
  {
   "cell_type": "code",
   "execution_count": 14,
   "metadata": {},
   "outputs": [],
   "source": [
    "from bs4 import BeautifulSoup\n",
    "from selenium import webdriver\n",
    "from unidecode import unidecode\n",
    "import pandas\n",
    "\n",
    "\n",
    "\n",
    "class stock():\n",
    "    Name = ''\n",
    "    Url = ''\n",
    "    Buy = ''\n",
    "    Sell = ''\n",
    "    Neutral = ''\n",
    "\n",
    "\n",
    "url = 'https://rahavard365.com/stock'\n",
    "base = 'https://rahavard365.com'\n",
    "\n",
    "driver = webdriver.Chrome(executable_path=r'C:\\Users\\ASUS\\Downloads\\Compressed\\chromedriver')\n",
    "driver.get(url)\n",
    "htmlSource = driver.page_source\n",
    "df = pandas.DataFrame(columns=[\"Name\", \"Buy\", \"Neutral\", \"Sell\"])\n",
    "\n",
    "try:\n",
    "    soup = BeautifulSoup(htmlSource, \"html.parser\")\n",
    "    for i in soup.findAll('a', {'class': 'symbol'}):\n",
    "        item = stock\n",
    "        item.Name = i.text\n",
    "        item.Url = base + i['href']\n",
    "        driver.get(item.Url)\n",
    "        htmlSource = driver.page_source\n",
    "        soup = BeautifulSoup(htmlSource, \"html.parser\")\n",
    "        item.Buy = unidecode(soup.find('div', {'id': 'indc_buy'}).text)\n",
    "        item.Sell = unidecode(soup.find('div', {'id': 'indc_sell'}).text)\n",
    "        item.Neutral = unidecode(soup.find('div', {'id': 'indc_neutral'}).text)\n",
    "        df.loc[len(df)] = [item.Name, item.Buy, item.Neutral, item.Sell]\n",
    "    driver.quit()\n",
    "except:\n",
    "    pass\n",
    "\n",
    "df.to_csv(\"data.csv\", sep=',', index=False)"
   ]
  },
  {
   "cell_type": "code",
   "execution_count": null,
   "metadata": {},
   "outputs": [],
   "source": []
  },
  {
   "cell_type": "code",
   "execution_count": null,
   "metadata": {},
   "outputs": [],
   "source": []
  }
 ],
 "metadata": {
  "kernelspec": {
   "display_name": "Python 3",
   "language": "python",
   "name": "python3"
  },
  "language_info": {
   "codemirror_mode": {
    "name": "ipython",
    "version": 3
   },
   "file_extension": ".py",
   "mimetype": "text/x-python",
   "name": "python",
   "nbconvert_exporter": "python",
   "pygments_lexer": "ipython3",
   "version": "3.7.6"
  }
 },
 "nbformat": 4,
 "nbformat_minor": 4
}
